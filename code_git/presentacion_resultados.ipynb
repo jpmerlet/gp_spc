{
 "cells": [
  {
   "cell_type": "markdown",
   "metadata": {},
   "source": [
    "# Comparacion GP & OK\n",
    "\n",
    "## Recuerdos:\n",
    "\n",
    "Un Proceso Gausiano (GP) es una proceso estocástico $(f(x))_{x \\in \\mathcal{\\mathbb{R}^3}}$ que cumple lo siguiente:\n",
    "\n",
    " <div style=\"text-align:center\"><span>_aqui va la deficion de un gp_</span></div>"
   ]
  },
  {
   "cell_type": "code",
   "execution_count": null,
   "metadata": {
    "collapsed": true
   },
   "outputs": [],
   "source": []
  }
 ],
 "metadata": {
  "kernelspec": {
   "display_name": "Python 3",
   "language": "python",
   "name": "python3"
  },
  "language_info": {
   "codemirror_mode": {
    "name": "ipython",
    "version": 3
   },
   "file_extension": ".py",
   "mimetype": "text/x-python",
   "name": "python",
   "nbconvert_exporter": "python",
   "pygments_lexer": "ipython3",
   "version": "3.6.1"
  }
 },
 "nbformat": 4,
 "nbformat_minor": 2
}
